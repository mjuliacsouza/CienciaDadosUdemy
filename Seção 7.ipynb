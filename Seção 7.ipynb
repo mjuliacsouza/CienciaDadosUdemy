{
 "cells": [
  {
   "cell_type": "code",
   "execution_count": 1,
   "metadata": {},
   "outputs": [],
   "source": [
    "def amplitude(lista):\n",
    "    maximo = max(lista)\n",
    "    minimo = min(lista)\n",
    "    amplitude = maximo - minimo\n",
    "    return amplitude"
   ]
  },
  {
   "cell_type": "code",
   "execution_count": 3,
   "metadata": {},
   "outputs": [],
   "source": [
    "def str_vertical (string):\n",
    "    for word in string:\n",
    "        print(word)"
   ]
  },
  {
   "cell_type": "code",
   "execution_count": 6,
   "metadata": {},
   "outputs": [],
   "source": [
    "def preço(peso):\n",
    "    if peso <= 10:\n",
    "        print('R$ 50,0')\n",
    "    elif peso <= 20 and peso >= 11:\n",
    "        print('R$ 80,0')\n",
    "    else:\n",
    "        print('Não será aceito.')"
   ]
  }
 ],
 "metadata": {
  "kernelspec": {
   "display_name": "Python 3",
   "language": "python",
   "name": "python3"
  },
  "language_info": {
   "codemirror_mode": {
    "name": "ipython",
    "version": 3
   },
   "file_extension": ".py",
   "mimetype": "text/x-python",
   "name": "python",
   "nbconvert_exporter": "python",
   "pygments_lexer": "ipython3",
   "version": "3.8.5"
  }
 },
 "nbformat": 4,
 "nbformat_minor": 4
}
